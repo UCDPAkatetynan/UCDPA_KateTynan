{
 "cells": [
  {
   "cell_type": "code",
   "execution_count": 134,
   "id": "a3737396",
   "metadata": {},
   "outputs": [],
   "source": [
    "import pandas as pd"
   ]
  },
  {
   "cell_type": "code",
   "execution_count": 135,
   "id": "c65e893b",
   "metadata": {},
   "outputs": [],
   "source": [
    "import numpy as np"
   ]
  },
  {
   "cell_type": "code",
   "execution_count": 136,
   "id": "da9abb76",
   "metadata": {},
   "outputs": [],
   "source": [
    "import seaborn as sns"
   ]
  },
  {
   "cell_type": "code",
   "execution_count": 137,
   "id": "aa14b5d8",
   "metadata": {},
   "outputs": [],
   "source": [
    "import matplotlib.pyplot as plt"
   ]
  },
  {
   "cell_type": "code",
   "execution_count": 138,
   "id": "41a742a5",
   "metadata": {},
   "outputs": [],
   "source": [
    "import requests"
   ]
  },
  {
   "cell_type": "code",
   "execution_count": 139,
   "id": "f58ca782",
   "metadata": {},
   "outputs": [],
   "source": [
    "fb1api = requests.get('http://kaggle.com/kaggle datasets download -d kalilurrahman/facebook-stock-data-live-and-latest/')"
   ]
  },
  {
   "cell_type": "code",
   "execution_count": 140,
   "id": "71e0e6bb",
   "metadata": {},
   "outputs": [],
   "source": [
    "fb1 = pd.read_csv(\"downloads/fb_stock_history.csv\")"
   ]
  },
  {
   "cell_type": "code",
   "execution_count": 141,
   "id": "00bac6ab",
   "metadata": {},
   "outputs": [
    {
     "data": {
      "text/html": [
       "<div>\n",
       "<style scoped>\n",
       "    .dataframe tbody tr th:only-of-type {\n",
       "        vertical-align: middle;\n",
       "    }\n",
       "\n",
       "    .dataframe tbody tr th {\n",
       "        vertical-align: top;\n",
       "    }\n",
       "\n",
       "    .dataframe thead th {\n",
       "        text-align: right;\n",
       "    }\n",
       "</style>\n",
       "<table border=\"1\" class=\"dataframe\">\n",
       "  <thead>\n",
       "    <tr style=\"text-align: right;\">\n",
       "      <th></th>\n",
       "      <th>Date</th>\n",
       "      <th>Open</th>\n",
       "      <th>High</th>\n",
       "      <th>Low</th>\n",
       "      <th>Close</th>\n",
       "      <th>Volume</th>\n",
       "      <th>Dividends</th>\n",
       "      <th>Stock Splits</th>\n",
       "    </tr>\n",
       "  </thead>\n",
       "  <tbody>\n",
       "    <tr>\n",
       "      <th>0</th>\n",
       "      <td>2012-05-18</td>\n",
       "      <td>42.049999</td>\n",
       "      <td>45.000000</td>\n",
       "      <td>38.000000</td>\n",
       "      <td>38.230000</td>\n",
       "      <td>573576400</td>\n",
       "      <td>0</td>\n",
       "      <td>0</td>\n",
       "    </tr>\n",
       "    <tr>\n",
       "      <th>1</th>\n",
       "      <td>2012-05-21</td>\n",
       "      <td>36.529999</td>\n",
       "      <td>36.660000</td>\n",
       "      <td>33.000000</td>\n",
       "      <td>34.029999</td>\n",
       "      <td>168192700</td>\n",
       "      <td>0</td>\n",
       "      <td>0</td>\n",
       "    </tr>\n",
       "    <tr>\n",
       "      <th>2</th>\n",
       "      <td>2012-05-22</td>\n",
       "      <td>32.610001</td>\n",
       "      <td>33.590000</td>\n",
       "      <td>30.940001</td>\n",
       "      <td>31.000000</td>\n",
       "      <td>101786600</td>\n",
       "      <td>0</td>\n",
       "      <td>0</td>\n",
       "    </tr>\n",
       "    <tr>\n",
       "      <th>3</th>\n",
       "      <td>2012-05-23</td>\n",
       "      <td>31.370001</td>\n",
       "      <td>32.500000</td>\n",
       "      <td>31.360001</td>\n",
       "      <td>32.000000</td>\n",
       "      <td>73600000</td>\n",
       "      <td>0</td>\n",
       "      <td>0</td>\n",
       "    </tr>\n",
       "    <tr>\n",
       "      <th>4</th>\n",
       "      <td>2012-05-24</td>\n",
       "      <td>32.950001</td>\n",
       "      <td>33.209999</td>\n",
       "      <td>31.770000</td>\n",
       "      <td>33.029999</td>\n",
       "      <td>50237200</td>\n",
       "      <td>0</td>\n",
       "      <td>0</td>\n",
       "    </tr>\n",
       "    <tr>\n",
       "      <th>...</th>\n",
       "      <td>...</td>\n",
       "      <td>...</td>\n",
       "      <td>...</td>\n",
       "      <td>...</td>\n",
       "      <td>...</td>\n",
       "      <td>...</td>\n",
       "      <td>...</td>\n",
       "      <td>...</td>\n",
       "    </tr>\n",
       "    <tr>\n",
       "      <th>2354</th>\n",
       "      <td>2021-09-27</td>\n",
       "      <td>349.809998</td>\n",
       "      <td>355.149994</td>\n",
       "      <td>347.079987</td>\n",
       "      <td>353.579987</td>\n",
       "      <td>15205800</td>\n",
       "      <td>0</td>\n",
       "      <td>0</td>\n",
       "    </tr>\n",
       "    <tr>\n",
       "      <th>2355</th>\n",
       "      <td>2021-09-28</td>\n",
       "      <td>347.970001</td>\n",
       "      <td>349.600006</td>\n",
       "      <td>338.920013</td>\n",
       "      <td>340.649994</td>\n",
       "      <td>21710300</td>\n",
       "      <td>0</td>\n",
       "      <td>0</td>\n",
       "    </tr>\n",
       "    <tr>\n",
       "      <th>2356</th>\n",
       "      <td>2021-09-29</td>\n",
       "      <td>343.149994</td>\n",
       "      <td>345.230011</td>\n",
       "      <td>338.880005</td>\n",
       "      <td>339.609985</td>\n",
       "      <td>14452200</td>\n",
       "      <td>0</td>\n",
       "      <td>0</td>\n",
       "    </tr>\n",
       "    <tr>\n",
       "      <th>2357</th>\n",
       "      <td>2021-09-30</td>\n",
       "      <td>340.450012</td>\n",
       "      <td>342.799988</td>\n",
       "      <td>338.149994</td>\n",
       "      <td>339.390015</td>\n",
       "      <td>16547100</td>\n",
       "      <td>0</td>\n",
       "      <td>0</td>\n",
       "    </tr>\n",
       "    <tr>\n",
       "      <th>2358</th>\n",
       "      <td>2021-10-01</td>\n",
       "      <td>341.609985</td>\n",
       "      <td>345.010010</td>\n",
       "      <td>338.640015</td>\n",
       "      <td>343.010010</td>\n",
       "      <td>14789507</td>\n",
       "      <td>0</td>\n",
       "      <td>0</td>\n",
       "    </tr>\n",
       "  </tbody>\n",
       "</table>\n",
       "<p>2359 rows × 8 columns</p>\n",
       "</div>"
      ],
      "text/plain": [
       "            Date        Open        High         Low       Close     Volume  \\\n",
       "0     2012-05-18   42.049999   45.000000   38.000000   38.230000  573576400   \n",
       "1     2012-05-21   36.529999   36.660000   33.000000   34.029999  168192700   \n",
       "2     2012-05-22   32.610001   33.590000   30.940001   31.000000  101786600   \n",
       "3     2012-05-23   31.370001   32.500000   31.360001   32.000000   73600000   \n",
       "4     2012-05-24   32.950001   33.209999   31.770000   33.029999   50237200   \n",
       "...          ...         ...         ...         ...         ...        ...   \n",
       "2354  2021-09-27  349.809998  355.149994  347.079987  353.579987   15205800   \n",
       "2355  2021-09-28  347.970001  349.600006  338.920013  340.649994   21710300   \n",
       "2356  2021-09-29  343.149994  345.230011  338.880005  339.609985   14452200   \n",
       "2357  2021-09-30  340.450012  342.799988  338.149994  339.390015   16547100   \n",
       "2358  2021-10-01  341.609985  345.010010  338.640015  343.010010   14789507   \n",
       "\n",
       "      Dividends  Stock Splits  \n",
       "0             0             0  \n",
       "1             0             0  \n",
       "2             0             0  \n",
       "3             0             0  \n",
       "4             0             0  \n",
       "...         ...           ...  \n",
       "2354          0             0  \n",
       "2355          0             0  \n",
       "2356          0             0  \n",
       "2357          0             0  \n",
       "2358          0             0  \n",
       "\n",
       "[2359 rows x 8 columns]"
      ]
     },
     "execution_count": 141,
     "metadata": {},
     "output_type": "execute_result"
    }
   ],
   "source": [
    "pd.DataFrame(fb1)"
   ]
  },
  {
   "cell_type": "code",
   "execution_count": 142,
   "id": "5d85bb51",
   "metadata": {},
   "outputs": [
    {
     "name": "stdout",
     "output_type": "stream",
     "text": [
      "         Date       Open       High        Low      Close     Volume  \\\n",
      "0  2012-05-18  42.049999  45.000000  38.000000  38.230000  573576400   \n",
      "1  2012-05-21  36.529999  36.660000  33.000000  34.029999  168192700   \n",
      "2  2012-05-22  32.610001  33.590000  30.940001  31.000000  101786600   \n",
      "3  2012-05-23  31.370001  32.500000  31.360001  32.000000   73600000   \n",
      "4  2012-05-24  32.950001  33.209999  31.770000  33.029999   50237200   \n",
      "\n",
      "   Dividends  Stock Splits  \n",
      "0          0             0  \n",
      "1          0             0  \n",
      "2          0             0  \n",
      "3          0             0  \n",
      "4          0             0  \n"
     ]
    }
   ],
   "source": [
    "print(fb1.head())"
   ]
  },
  {
   "cell_type": "code",
   "execution_count": 143,
   "id": "698887a4",
   "metadata": {},
   "outputs": [
    {
     "name": "stdout",
     "output_type": "stream",
     "text": [
      "<class 'pandas.core.frame.DataFrame'>\n",
      "RangeIndex: 2359 entries, 0 to 2358\n",
      "Data columns (total 8 columns):\n",
      " #   Column        Non-Null Count  Dtype  \n",
      "---  ------        --------------  -----  \n",
      " 0   Date          2359 non-null   object \n",
      " 1   Open          2359 non-null   float64\n",
      " 2   High          2359 non-null   float64\n",
      " 3   Low           2359 non-null   float64\n",
      " 4   Close         2359 non-null   float64\n",
      " 5   Volume        2359 non-null   int64  \n",
      " 6   Dividends     2359 non-null   int64  \n",
      " 7   Stock Splits  2359 non-null   int64  \n",
      "dtypes: float64(4), int64(3), object(1)\n",
      "memory usage: 147.6+ KB\n",
      "None\n"
     ]
    }
   ],
   "source": [
    "print (fb1.info())"
   ]
  },
  {
   "cell_type": "code",
   "execution_count": 144,
   "id": "d10a8a60",
   "metadata": {},
   "outputs": [
    {
     "name": "stdout",
     "output_type": "stream",
     "text": [
      "(2359, 8)\n"
     ]
    }
   ],
   "source": [
    "print (fb1.shape)"
   ]
  },
  {
   "cell_type": "code",
   "execution_count": 145,
   "id": "f66f5f17",
   "metadata": {},
   "outputs": [],
   "source": [
    "fb1_sorted = fb1.sort_values([\"High\",\"Volume\"], ascending=[False, False])"
   ]
  },
  {
   "cell_type": "code",
   "execution_count": 146,
   "id": "215dff4e",
   "metadata": {},
   "outputs": [
    {
     "name": "stdout",
     "output_type": "stream",
     "text": [
      "            Date        Open        High         Low       Close    Volume  \\\n",
      "2337  2021-09-01  379.589996  384.329987  378.809998  382.049988  11567200   \n",
      "2343  2021-09-10  381.359985  383.790009  378.260010  378.690002  11537600   \n",
      "2340  2021-09-07  375.880005  382.959991  373.149994  382.179993  10793800   \n",
      "2336  2021-08-31  379.950012  382.760010  378.799988  379.380005  12345400   \n",
      "2338  2021-09-02  381.500000  381.750000  374.059998  375.279999  14832900   \n",
      "\n",
      "      Dividends  Stock Splits  \n",
      "2337          0             0  \n",
      "2343          0             0  \n",
      "2340          0             0  \n",
      "2336          0             0  \n",
      "2338          0             0  \n"
     ]
    }
   ],
   "source": [
    "print(fb1_sorted.head())"
   ]
  },
  {
   "cell_type": "code",
   "execution_count": 147,
   "id": "df7f3578",
   "metadata": {},
   "outputs": [
    {
     "data": {
      "text/plain": [
       "Index(['Date', 'Open', 'High', 'Low', 'Close', 'Volume', 'Dividends',\n",
       "       'Stock Splits'],\n",
       "      dtype='object')"
      ]
     },
     "execution_count": 147,
     "metadata": {},
     "output_type": "execute_result"
    }
   ],
   "source": [
    "fb1.columns"
   ]
  },
  {
   "cell_type": "code",
   "execution_count": 148,
   "id": "1bb5ef8f",
   "metadata": {},
   "outputs": [
    {
     "data": {
      "text/plain": [
       "RangeIndex(start=0, stop=2359, step=1)"
      ]
     },
     "execution_count": 148,
     "metadata": {},
     "output_type": "execute_result"
    }
   ],
   "source": [
    "fb1.index"
   ]
  },
  {
   "cell_type": "code",
   "execution_count": 149,
   "id": "0704f087",
   "metadata": {},
   "outputs": [],
   "source": [
    "fb1_ind = fb1.set_index(\"Date\")"
   ]
  },
  {
   "cell_type": "code",
   "execution_count": 150,
   "id": "9568c714",
   "metadata": {},
   "outputs": [
    {
     "name": "stdout",
     "output_type": "stream",
     "text": [
      "                  Open        High         Low       Close     Volume  \\\n",
      "Date                                                                    \n",
      "2012-05-18   42.049999   45.000000   38.000000   38.230000  573576400   \n",
      "2012-05-21   36.529999   36.660000   33.000000   34.029999  168192700   \n",
      "2012-05-22   32.610001   33.590000   30.940001   31.000000  101786600   \n",
      "2012-05-23   31.370001   32.500000   31.360001   32.000000   73600000   \n",
      "2012-05-24   32.950001   33.209999   31.770000   33.029999   50237200   \n",
      "...                ...         ...         ...         ...        ...   \n",
      "2021-09-27  349.809998  355.149994  347.079987  353.579987   15205800   \n",
      "2021-09-28  347.970001  349.600006  338.920013  340.649994   21710300   \n",
      "2021-09-29  343.149994  345.230011  338.880005  339.609985   14452200   \n",
      "2021-09-30  340.450012  342.799988  338.149994  339.390015   16547100   \n",
      "2021-10-01  341.609985  345.010010  338.640015  343.010010   14789507   \n",
      "\n",
      "            Dividends  Stock Splits  \n",
      "Date                                 \n",
      "2012-05-18          0             0  \n",
      "2012-05-21          0             0  \n",
      "2012-05-22          0             0  \n",
      "2012-05-23          0             0  \n",
      "2012-05-24          0             0  \n",
      "...               ...           ...  \n",
      "2021-09-27          0             0  \n",
      "2021-09-28          0             0  \n",
      "2021-09-29          0             0  \n",
      "2021-09-30          0             0  \n",
      "2021-10-01          0             0  \n",
      "\n",
      "[2359 rows x 7 columns]\n"
     ]
    }
   ],
   "source": [
    "print(fb1_ind)"
   ]
  },
  {
   "cell_type": "code",
   "execution_count": 151,
   "id": "4e09edc6",
   "metadata": {},
   "outputs": [
    {
     "data": {
      "text/html": [
       "<div>\n",
       "<style scoped>\n",
       "    .dataframe tbody tr th:only-of-type {\n",
       "        vertical-align: middle;\n",
       "    }\n",
       "\n",
       "    .dataframe tbody tr th {\n",
       "        vertical-align: top;\n",
       "    }\n",
       "\n",
       "    .dataframe thead th {\n",
       "        text-align: right;\n",
       "    }\n",
       "</style>\n",
       "<table border=\"1\" class=\"dataframe\">\n",
       "  <thead>\n",
       "    <tr style=\"text-align: right;\">\n",
       "      <th></th>\n",
       "      <th>Open</th>\n",
       "      <th>High</th>\n",
       "      <th>Low</th>\n",
       "      <th>Close</th>\n",
       "      <th>Volume</th>\n",
       "      <th>Dividends</th>\n",
       "      <th>Stock Splits</th>\n",
       "    </tr>\n",
       "    <tr>\n",
       "      <th>Date</th>\n",
       "      <th></th>\n",
       "      <th></th>\n",
       "      <th></th>\n",
       "      <th></th>\n",
       "      <th></th>\n",
       "      <th></th>\n",
       "      <th></th>\n",
       "    </tr>\n",
       "  </thead>\n",
       "  <tbody>\n",
       "    <tr>\n",
       "      <th>2021-01-04</th>\n",
       "      <td>274.779999</td>\n",
       "      <td>275.000000</td>\n",
       "      <td>265.200012</td>\n",
       "      <td>268.940002</td>\n",
       "      <td>15106100</td>\n",
       "      <td>0</td>\n",
       "      <td>0</td>\n",
       "    </tr>\n",
       "    <tr>\n",
       "      <th>2021-01-05</th>\n",
       "      <td>268.290009</td>\n",
       "      <td>272.399994</td>\n",
       "      <td>268.209991</td>\n",
       "      <td>270.970001</td>\n",
       "      <td>9871600</td>\n",
       "      <td>0</td>\n",
       "      <td>0</td>\n",
       "    </tr>\n",
       "    <tr>\n",
       "      <th>2021-01-06</th>\n",
       "      <td>262.000000</td>\n",
       "      <td>267.750000</td>\n",
       "      <td>260.010010</td>\n",
       "      <td>263.309998</td>\n",
       "      <td>24354100</td>\n",
       "      <td>0</td>\n",
       "      <td>0</td>\n",
       "    </tr>\n",
       "    <tr>\n",
       "      <th>2021-01-07</th>\n",
       "      <td>265.899994</td>\n",
       "      <td>271.609985</td>\n",
       "      <td>264.779999</td>\n",
       "      <td>268.739990</td>\n",
       "      <td>15789800</td>\n",
       "      <td>0</td>\n",
       "      <td>0</td>\n",
       "    </tr>\n",
       "    <tr>\n",
       "      <th>2021-01-08</th>\n",
       "      <td>268.309998</td>\n",
       "      <td>268.950012</td>\n",
       "      <td>263.179993</td>\n",
       "      <td>267.570007</td>\n",
       "      <td>18528300</td>\n",
       "      <td>0</td>\n",
       "      <td>0</td>\n",
       "    </tr>\n",
       "    <tr>\n",
       "      <th>...</th>\n",
       "      <td>...</td>\n",
       "      <td>...</td>\n",
       "      <td>...</td>\n",
       "      <td>...</td>\n",
       "      <td>...</td>\n",
       "      <td>...</td>\n",
       "      <td>...</td>\n",
       "    </tr>\n",
       "    <tr>\n",
       "      <th>2021-09-27</th>\n",
       "      <td>349.809998</td>\n",
       "      <td>355.149994</td>\n",
       "      <td>347.079987</td>\n",
       "      <td>353.579987</td>\n",
       "      <td>15205800</td>\n",
       "      <td>0</td>\n",
       "      <td>0</td>\n",
       "    </tr>\n",
       "    <tr>\n",
       "      <th>2021-09-28</th>\n",
       "      <td>347.970001</td>\n",
       "      <td>349.600006</td>\n",
       "      <td>338.920013</td>\n",
       "      <td>340.649994</td>\n",
       "      <td>21710300</td>\n",
       "      <td>0</td>\n",
       "      <td>0</td>\n",
       "    </tr>\n",
       "    <tr>\n",
       "      <th>2021-09-29</th>\n",
       "      <td>343.149994</td>\n",
       "      <td>345.230011</td>\n",
       "      <td>338.880005</td>\n",
       "      <td>339.609985</td>\n",
       "      <td>14452200</td>\n",
       "      <td>0</td>\n",
       "      <td>0</td>\n",
       "    </tr>\n",
       "    <tr>\n",
       "      <th>2021-09-30</th>\n",
       "      <td>340.450012</td>\n",
       "      <td>342.799988</td>\n",
       "      <td>338.149994</td>\n",
       "      <td>339.390015</td>\n",
       "      <td>16547100</td>\n",
       "      <td>0</td>\n",
       "      <td>0</td>\n",
       "    </tr>\n",
       "    <tr>\n",
       "      <th>2021-10-01</th>\n",
       "      <td>341.609985</td>\n",
       "      <td>345.010010</td>\n",
       "      <td>338.640015</td>\n",
       "      <td>343.010010</td>\n",
       "      <td>14789507</td>\n",
       "      <td>0</td>\n",
       "      <td>0</td>\n",
       "    </tr>\n",
       "  </tbody>\n",
       "</table>\n",
       "<p>189 rows × 7 columns</p>\n",
       "</div>"
      ],
      "text/plain": [
       "                  Open        High         Low       Close    Volume  \\\n",
       "Date                                                                   \n",
       "2021-01-04  274.779999  275.000000  265.200012  268.940002  15106100   \n",
       "2021-01-05  268.290009  272.399994  268.209991  270.970001   9871600   \n",
       "2021-01-06  262.000000  267.750000  260.010010  263.309998  24354100   \n",
       "2021-01-07  265.899994  271.609985  264.779999  268.739990  15789800   \n",
       "2021-01-08  268.309998  268.950012  263.179993  267.570007  18528300   \n",
       "...                ...         ...         ...         ...       ...   \n",
       "2021-09-27  349.809998  355.149994  347.079987  353.579987  15205800   \n",
       "2021-09-28  347.970001  349.600006  338.920013  340.649994  21710300   \n",
       "2021-09-29  343.149994  345.230011  338.880005  339.609985  14452200   \n",
       "2021-09-30  340.450012  342.799988  338.149994  339.390015  16547100   \n",
       "2021-10-01  341.609985  345.010010  338.640015  343.010010  14789507   \n",
       "\n",
       "            Dividends  Stock Splits  \n",
       "Date                                 \n",
       "2021-01-04          0             0  \n",
       "2021-01-05          0             0  \n",
       "2021-01-06          0             0  \n",
       "2021-01-07          0             0  \n",
       "2021-01-08          0             0  \n",
       "...               ...           ...  \n",
       "2021-09-27          0             0  \n",
       "2021-09-28          0             0  \n",
       "2021-09-29          0             0  \n",
       "2021-09-30          0             0  \n",
       "2021-10-01          0             0  \n",
       "\n",
       "[189 rows x 7 columns]"
      ]
     },
     "execution_count": 151,
     "metadata": {},
     "output_type": "execute_result"
    }
   ],
   "source": [
    "fb1_ind.loc[\"2021-01-01\":\"2021-12-31\"]"
   ]
  },
  {
   "cell_type": "code",
   "execution_count": 152,
   "id": "5c297db0",
   "metadata": {},
   "outputs": [
    {
     "data": {
      "text/html": [
       "<div>\n",
       "<style scoped>\n",
       "    .dataframe tbody tr th:only-of-type {\n",
       "        vertical-align: middle;\n",
       "    }\n",
       "\n",
       "    .dataframe tbody tr th {\n",
       "        vertical-align: top;\n",
       "    }\n",
       "\n",
       "    .dataframe thead th {\n",
       "        text-align: right;\n",
       "    }\n",
       "</style>\n",
       "<table border=\"1\" class=\"dataframe\">\n",
       "  <thead>\n",
       "    <tr style=\"text-align: right;\">\n",
       "      <th></th>\n",
       "      <th>Open</th>\n",
       "      <th>High</th>\n",
       "      <th>Low</th>\n",
       "      <th>Close</th>\n",
       "      <th>Volume</th>\n",
       "      <th>Dividends</th>\n",
       "      <th>Stock Splits</th>\n",
       "    </tr>\n",
       "  </thead>\n",
       "  <tbody>\n",
       "    <tr>\n",
       "      <th>count</th>\n",
       "      <td>2359.000000</td>\n",
       "      <td>2359.000000</td>\n",
       "      <td>2359.000000</td>\n",
       "      <td>2359.000000</td>\n",
       "      <td>2.359000e+03</td>\n",
       "      <td>2359.0</td>\n",
       "      <td>2359.0</td>\n",
       "    </tr>\n",
       "    <tr>\n",
       "      <th>mean</th>\n",
       "      <td>139.606969</td>\n",
       "      <td>141.234324</td>\n",
       "      <td>137.958605</td>\n",
       "      <td>139.656876</td>\n",
       "      <td>3.095630e+07</td>\n",
       "      <td>0.0</td>\n",
       "      <td>0.0</td>\n",
       "    </tr>\n",
       "    <tr>\n",
       "      <th>std</th>\n",
       "      <td>84.490691</td>\n",
       "      <td>85.465048</td>\n",
       "      <td>83.566847</td>\n",
       "      <td>84.565640</td>\n",
       "      <td>2.778137e+07</td>\n",
       "      <td>0.0</td>\n",
       "      <td>0.0</td>\n",
       "    </tr>\n",
       "    <tr>\n",
       "      <th>min</th>\n",
       "      <td>18.080000</td>\n",
       "      <td>18.270000</td>\n",
       "      <td>17.549999</td>\n",
       "      <td>17.730000</td>\n",
       "      <td>5.913100e+06</td>\n",
       "      <td>0.0</td>\n",
       "      <td>0.0</td>\n",
       "    </tr>\n",
       "    <tr>\n",
       "      <th>25%</th>\n",
       "      <td>74.935001</td>\n",
       "      <td>75.565002</td>\n",
       "      <td>74.020000</td>\n",
       "      <td>74.855000</td>\n",
       "      <td>1.564190e+07</td>\n",
       "      <td>0.0</td>\n",
       "      <td>0.0</td>\n",
       "    </tr>\n",
       "    <tr>\n",
       "      <th>50%</th>\n",
       "      <td>130.979996</td>\n",
       "      <td>132.259995</td>\n",
       "      <td>129.770004</td>\n",
       "      <td>131.050003</td>\n",
       "      <td>2.220590e+07</td>\n",
       "      <td>0.0</td>\n",
       "      <td>0.0</td>\n",
       "    </tr>\n",
       "    <tr>\n",
       "      <th>75%</th>\n",
       "      <td>184.914993</td>\n",
       "      <td>186.830002</td>\n",
       "      <td>183.419998</td>\n",
       "      <td>185.345001</td>\n",
       "      <td>3.597605e+07</td>\n",
       "      <td>0.0</td>\n",
       "      <td>0.0</td>\n",
       "    </tr>\n",
       "    <tr>\n",
       "      <th>max</th>\n",
       "      <td>381.679993</td>\n",
       "      <td>384.329987</td>\n",
       "      <td>378.809998</td>\n",
       "      <td>382.179993</td>\n",
       "      <td>5.735764e+08</td>\n",
       "      <td>0.0</td>\n",
       "      <td>0.0</td>\n",
       "    </tr>\n",
       "  </tbody>\n",
       "</table>\n",
       "</div>"
      ],
      "text/plain": [
       "              Open         High          Low        Close        Volume  \\\n",
       "count  2359.000000  2359.000000  2359.000000  2359.000000  2.359000e+03   \n",
       "mean    139.606969   141.234324   137.958605   139.656876  3.095630e+07   \n",
       "std      84.490691    85.465048    83.566847    84.565640  2.778137e+07   \n",
       "min      18.080000    18.270000    17.549999    17.730000  5.913100e+06   \n",
       "25%      74.935001    75.565002    74.020000    74.855000  1.564190e+07   \n",
       "50%     130.979996   132.259995   129.770004   131.050003  2.220590e+07   \n",
       "75%     184.914993   186.830002   183.419998   185.345001  3.597605e+07   \n",
       "max     381.679993   384.329987   378.809998   382.179993  5.735764e+08   \n",
       "\n",
       "       Dividends  Stock Splits  \n",
       "count     2359.0        2359.0  \n",
       "mean         0.0           0.0  \n",
       "std          0.0           0.0  \n",
       "min          0.0           0.0  \n",
       "25%          0.0           0.0  \n",
       "50%          0.0           0.0  \n",
       "75%          0.0           0.0  \n",
       "max          0.0           0.0  "
      ]
     },
     "execution_count": 152,
     "metadata": {},
     "output_type": "execute_result"
    }
   ],
   "source": [
    "fb1.describe()"
   ]
  },
  {
   "cell_type": "code",
   "execution_count": 153,
   "id": "194236a6",
   "metadata": {},
   "outputs": [],
   "source": [
    "fb1_sorted = fb1.sort_values([\"High\"], ascending=[False])"
   ]
  },
  {
   "cell_type": "code",
   "execution_count": 154,
   "id": "5d48d2fc",
   "metadata": {},
   "outputs": [
    {
     "name": "stdout",
     "output_type": "stream",
     "text": [
      "            Date        Open        High         Low       Close    Volume  \\\n",
      "2337  2021-09-01  379.589996  384.329987  378.809998  382.049988  11567200   \n",
      "2343  2021-09-10  381.359985  383.790009  378.260010  378.690002  11537600   \n",
      "2340  2021-09-07  375.880005  382.959991  373.149994  382.179993  10793800   \n",
      "2336  2021-08-31  379.950012  382.760010  378.799988  379.380005  12345400   \n",
      "2344  2021-09-13  381.679993  381.750000  374.350006  376.510010  13026300   \n",
      "\n",
      "      Dividends  Stock Splits  \n",
      "2337          0             0  \n",
      "2343          0             0  \n",
      "2340          0             0  \n",
      "2336          0             0  \n",
      "2344          0             0  \n"
     ]
    }
   ],
   "source": [
    "print(fb1_sorted.head())"
   ]
  },
  {
   "cell_type": "code",
   "execution_count": 155,
   "id": "72362174",
   "metadata": {},
   "outputs": [
    {
     "name": "stdout",
     "output_type": "stream",
     "text": [
      "            Date        Open        High         Low       Close    Volume\n",
      "2337  2021-09-01  379.589996  384.329987  378.809998  382.049988  11567200\n",
      "2343  2021-09-10  381.359985  383.790009  378.260010  378.690002  11537600\n",
      "2340  2021-09-07  375.880005  382.959991  373.149994  382.179993  10793800\n",
      "2336  2021-08-31  379.950012  382.760010  378.799988  379.380005  12345400\n",
      "2344  2021-09-13  381.679993  381.750000  374.350006  376.510010  13026300\n",
      "2338  2021-09-02  381.500000  381.750000  374.059998  375.279999  14832900\n",
      "2335  2021-08-30  372.559998  381.489990  370.519989  380.660004  13547300\n",
      "2341  2021-09-08  380.160004  380.869995  374.790009  377.570007  11067200\n",
      "2342  2021-09-09  377.640015  379.829987  376.570007  378.000000   9098900\n",
      "2345  2021-09-14  377.399994  378.589996  375.109985  376.529999   8711600\n"
     ]
    }
   ],
   "source": [
    "print(fb1_sorted.iloc[0:10, :6])"
   ]
  },
  {
   "cell_type": "code",
   "execution_count": 156,
   "id": "d43dd11a",
   "metadata": {},
   "outputs": [],
   "source": [
    "fb1.drop(['Dividends', 'Stock Splits'], axis=1, inplace=True)"
   ]
  },
  {
   "cell_type": "code",
   "execution_count": 157,
   "id": "efb027e0",
   "metadata": {},
   "outputs": [
    {
     "name": "stdout",
     "output_type": "stream",
     "text": [
      "         Date       Open       High        Low      Close     Volume\n",
      "0  2012-05-18  42.049999  45.000000  38.000000  38.230000  573576400\n",
      "1  2012-05-21  36.529999  36.660000  33.000000  34.029999  168192700\n",
      "2  2012-05-22  32.610001  33.590000  30.940001  31.000000  101786600\n",
      "3  2012-05-23  31.370001  32.500000  31.360001  32.000000   73600000\n",
      "4  2012-05-24  32.950001  33.209999  31.770000  33.029999   50237200\n"
     ]
    }
   ],
   "source": [
    "print(fb1.head())"
   ]
  },
  {
   "cell_type": "code",
   "execution_count": 158,
   "id": "e599f8e5",
   "metadata": {},
   "outputs": [],
   "source": [
    "fb1['Date'] = pd.to_datetime(fb1['Date'])"
   ]
  },
  {
   "cell_type": "code",
   "execution_count": 159,
   "id": "98849953",
   "metadata": {},
   "outputs": [],
   "source": [
    "fb1['Year'] = fb1['Date'].dt.year"
   ]
  },
  {
   "cell_type": "code",
   "execution_count": 160,
   "id": "a05835b0",
   "metadata": {},
   "outputs": [],
   "source": [
    "years = fb1.Year.unique()"
   ]
  },
  {
   "cell_type": "code",
   "execution_count": 161,
   "id": "121d578d",
   "metadata": {},
   "outputs": [
    {
     "name": "stdout",
     "output_type": "stream",
     "text": [
      "2012\n",
      "2013\n",
      "2014\n",
      "2015\n",
      "2016\n",
      "2017\n",
      "2018\n",
      "2019\n",
      "2020\n",
      "2021\n"
     ]
    }
   ],
   "source": [
    "for yr in years:\n",
    "     print(yr)"
   ]
  },
  {
   "cell_type": "code",
   "execution_count": 162,
   "id": "262f0c17",
   "metadata": {},
   "outputs": [
    {
     "name": "stdout",
     "output_type": "stream",
     "text": [
      "        Date       Open       High        Low      Close     Volume  Year\n",
      "0 2012-05-18  42.049999  45.000000  38.000000  38.230000  573576400  2012\n",
      "1 2012-05-21  36.529999  36.660000  33.000000  34.029999  168192700  2012\n",
      "2 2012-05-22  32.610001  33.590000  30.940001  31.000000  101786600  2012\n",
      "3 2012-05-23  31.370001  32.500000  31.360001  32.000000   73600000  2012\n",
      "4 2012-05-24  32.950001  33.209999  31.770000  33.029999   50237200  2012\n"
     ]
    }
   ],
   "source": [
    "print(fb1.head())"
   ]
  },
  {
   "cell_type": "code",
   "execution_count": 163,
   "id": "72ba0d38",
   "metadata": {},
   "outputs": [
    {
     "data": {
      "text/html": [
       "<div>\n",
       "<style scoped>\n",
       "    .dataframe tbody tr th:only-of-type {\n",
       "        vertical-align: middle;\n",
       "    }\n",
       "\n",
       "    .dataframe tbody tr th {\n",
       "        vertical-align: top;\n",
       "    }\n",
       "\n",
       "    .dataframe thead th {\n",
       "        text-align: right;\n",
       "    }\n",
       "</style>\n",
       "<table border=\"1\" class=\"dataframe\">\n",
       "  <thead>\n",
       "    <tr style=\"text-align: right;\">\n",
       "      <th></th>\n",
       "      <th>Date</th>\n",
       "      <th>Year</th>\n",
       "      <th>Open</th>\n",
       "      <th>High</th>\n",
       "      <th>Low</th>\n",
       "      <th>Close</th>\n",
       "      <th>Volume</th>\n",
       "    </tr>\n",
       "  </thead>\n",
       "  <tbody>\n",
       "    <tr>\n",
       "      <th>0</th>\n",
       "      <td>2012-05-18</td>\n",
       "      <td>2012</td>\n",
       "      <td>42.049999</td>\n",
       "      <td>45.000000</td>\n",
       "      <td>38.000000</td>\n",
       "      <td>38.230000</td>\n",
       "      <td>573576400</td>\n",
       "    </tr>\n",
       "    <tr>\n",
       "      <th>1</th>\n",
       "      <td>2012-05-21</td>\n",
       "      <td>2012</td>\n",
       "      <td>36.529999</td>\n",
       "      <td>36.660000</td>\n",
       "      <td>33.000000</td>\n",
       "      <td>34.029999</td>\n",
       "      <td>168192700</td>\n",
       "    </tr>\n",
       "    <tr>\n",
       "      <th>2</th>\n",
       "      <td>2012-05-22</td>\n",
       "      <td>2012</td>\n",
       "      <td>32.610001</td>\n",
       "      <td>33.590000</td>\n",
       "      <td>30.940001</td>\n",
       "      <td>31.000000</td>\n",
       "      <td>101786600</td>\n",
       "    </tr>\n",
       "    <tr>\n",
       "      <th>3</th>\n",
       "      <td>2012-05-23</td>\n",
       "      <td>2012</td>\n",
       "      <td>31.370001</td>\n",
       "      <td>32.500000</td>\n",
       "      <td>31.360001</td>\n",
       "      <td>32.000000</td>\n",
       "      <td>73600000</td>\n",
       "    </tr>\n",
       "    <tr>\n",
       "      <th>4</th>\n",
       "      <td>2012-05-24</td>\n",
       "      <td>2012</td>\n",
       "      <td>32.950001</td>\n",
       "      <td>33.209999</td>\n",
       "      <td>31.770000</td>\n",
       "      <td>33.029999</td>\n",
       "      <td>50237200</td>\n",
       "    </tr>\n",
       "    <tr>\n",
       "      <th>...</th>\n",
       "      <td>...</td>\n",
       "      <td>...</td>\n",
       "      <td>...</td>\n",
       "      <td>...</td>\n",
       "      <td>...</td>\n",
       "      <td>...</td>\n",
       "      <td>...</td>\n",
       "    </tr>\n",
       "    <tr>\n",
       "      <th>2354</th>\n",
       "      <td>2021-09-27</td>\n",
       "      <td>2021</td>\n",
       "      <td>349.809998</td>\n",
       "      <td>355.149994</td>\n",
       "      <td>347.079987</td>\n",
       "      <td>353.579987</td>\n",
       "      <td>15205800</td>\n",
       "    </tr>\n",
       "    <tr>\n",
       "      <th>2355</th>\n",
       "      <td>2021-09-28</td>\n",
       "      <td>2021</td>\n",
       "      <td>347.970001</td>\n",
       "      <td>349.600006</td>\n",
       "      <td>338.920013</td>\n",
       "      <td>340.649994</td>\n",
       "      <td>21710300</td>\n",
       "    </tr>\n",
       "    <tr>\n",
       "      <th>2356</th>\n",
       "      <td>2021-09-29</td>\n",
       "      <td>2021</td>\n",
       "      <td>343.149994</td>\n",
       "      <td>345.230011</td>\n",
       "      <td>338.880005</td>\n",
       "      <td>339.609985</td>\n",
       "      <td>14452200</td>\n",
       "    </tr>\n",
       "    <tr>\n",
       "      <th>2357</th>\n",
       "      <td>2021-09-30</td>\n",
       "      <td>2021</td>\n",
       "      <td>340.450012</td>\n",
       "      <td>342.799988</td>\n",
       "      <td>338.149994</td>\n",
       "      <td>339.390015</td>\n",
       "      <td>16547100</td>\n",
       "    </tr>\n",
       "    <tr>\n",
       "      <th>2358</th>\n",
       "      <td>2021-10-01</td>\n",
       "      <td>2021</td>\n",
       "      <td>341.609985</td>\n",
       "      <td>345.010010</td>\n",
       "      <td>338.640015</td>\n",
       "      <td>343.010010</td>\n",
       "      <td>14789507</td>\n",
       "    </tr>\n",
       "  </tbody>\n",
       "</table>\n",
       "<p>2359 rows × 7 columns</p>\n",
       "</div>"
      ],
      "text/plain": [
       "           Date  Year        Open        High         Low       Close  \\\n",
       "0    2012-05-18  2012   42.049999   45.000000   38.000000   38.230000   \n",
       "1    2012-05-21  2012   36.529999   36.660000   33.000000   34.029999   \n",
       "2    2012-05-22  2012   32.610001   33.590000   30.940001   31.000000   \n",
       "3    2012-05-23  2012   31.370001   32.500000   31.360001   32.000000   \n",
       "4    2012-05-24  2012   32.950001   33.209999   31.770000   33.029999   \n",
       "...         ...   ...         ...         ...         ...         ...   \n",
       "2354 2021-09-27  2021  349.809998  355.149994  347.079987  353.579987   \n",
       "2355 2021-09-28  2021  347.970001  349.600006  338.920013  340.649994   \n",
       "2356 2021-09-29  2021  343.149994  345.230011  338.880005  339.609985   \n",
       "2357 2021-09-30  2021  340.450012  342.799988  338.149994  339.390015   \n",
       "2358 2021-10-01  2021  341.609985  345.010010  338.640015  343.010010   \n",
       "\n",
       "         Volume  \n",
       "0     573576400  \n",
       "1     168192700  \n",
       "2     101786600  \n",
       "3      73600000  \n",
       "4      50237200  \n",
       "...         ...  \n",
       "2354   15205800  \n",
       "2355   21710300  \n",
       "2356   14452200  \n",
       "2357   16547100  \n",
       "2358   14789507  \n",
       "\n",
       "[2359 rows x 7 columns]"
      ]
     },
     "execution_count": 163,
     "metadata": {},
     "output_type": "execute_result"
    }
   ],
   "source": [
    "fb1[[\"Date\", \"Year\", \"Open\", \"High\", \"Low\", \"Close\", \"Volume\"]]"
   ]
  },
  {
   "cell_type": "code",
   "execution_count": 164,
   "id": "a04e5798",
   "metadata": {},
   "outputs": [
    {
     "data": {
      "text/plain": [
       "Date      0\n",
       "Open      0\n",
       "High      0\n",
       "Low       0\n",
       "Close     0\n",
       "Volume    0\n",
       "Year      0\n",
       "dtype: int64"
      ]
     },
     "execution_count": 164,
     "metadata": {},
     "output_type": "execute_result"
    }
   ],
   "source": [
    "fb1.isna().sum()"
   ]
  },
  {
   "cell_type": "code",
   "execution_count": 165,
   "id": "51cad0af",
   "metadata": {},
   "outputs": [
    {
     "data": {
      "text/plain": [
       "0       False\n",
       "1       False\n",
       "2       False\n",
       "3       False\n",
       "4       False\n",
       "        ...  \n",
       "2354    False\n",
       "2355    False\n",
       "2356    False\n",
       "2357    False\n",
       "2358    False\n",
       "Length: 2359, dtype: bool"
      ]
     },
     "execution_count": 165,
     "metadata": {},
     "output_type": "execute_result"
    }
   ],
   "source": [
    "fb1.duplicated(subset=['Date'])"
   ]
  },
  {
   "cell_type": "code",
   "execution_count": 166,
   "id": "e3dc2110",
   "metadata": {},
   "outputs": [],
   "source": [
    "fb1mm = fb1[['Open','High', 'Low', 'Close', 'Volume']].agg(['min','max'])"
   ]
  },
  {
   "cell_type": "code",
   "execution_count": 167,
   "id": "560640de",
   "metadata": {},
   "outputs": [
    {
     "name": "stdout",
     "output_type": "stream",
     "text": [
      "       Open    High     Low   Close     Volume\n",
      "min   18.08   18.27   17.55   17.73    5913100\n",
      "max  381.68  384.33  378.81  382.18  573576400\n"
     ]
    }
   ],
   "source": [
    "print(fb1mm.round(2))"
   ]
  },
  {
   "cell_type": "code",
   "execution_count": 168,
   "id": "8e6cbb7b",
   "metadata": {},
   "outputs": [
    {
     "name": "stdout",
     "output_type": "stream",
     "text": [
      "           Open       High        Low      Close        Volume\n",
      "Year                                                          \n",
      "2012   4.752172   4.877742   4.507868   4.616111  5.587757e+07\n",
      "2013  10.590786  10.797069  10.392339  10.621172  3.962196e+07\n",
      "2014   7.431977   7.357426   7.579069   7.502259  2.454682e+07\n",
      "2015  10.216514  10.300274  10.078925  10.211442  1.184893e+07\n",
      "2016   8.874725   8.647358   9.213107   8.899858  1.477990e+07\n",
      "2017  17.534618  17.582391  17.278591  17.379058  7.532298e+06\n",
      "2018  19.696493  19.424564  20.074370  19.977452  1.917553e+07\n",
      "2019  16.292343  16.089055  16.145862  16.051887  8.533048e+06\n",
      "2020  38.783715  38.879144  38.529743  38.565749  1.040099e+07\n",
      "2021  39.035937  38.737515  39.143557  39.267001  7.185451e+06\n"
     ]
    }
   ],
   "source": [
    "fb1ystd = fb1.groupby('Year').std()\n",
    "print(fb1ystd)"
   ]
  },
  {
   "cell_type": "code",
   "execution_count": 169,
   "id": "db01dbc7",
   "metadata": {},
   "outputs": [
    {
     "name": "stdout",
     "output_type": "stream",
     "text": [
      "            Open        High         Low       Close        Volume\n",
      "Year                                                              \n",
      "2012   24.799613   25.300903   24.195871   24.673097  5.464815e+07\n",
      "2013   35.476429   36.045040   34.930159   35.481151  6.009199e+07\n",
      "2014   68.763968   69.639524   67.830199   68.762341  4.753055e+07\n",
      "2015   88.749405   89.683373   87.762778   88.772857  2.695888e+07\n",
      "2016  117.081071  118.091706  115.865873  117.035873  2.547507e+07\n",
      "2017  156.481076  157.557530  155.347012  156.576175  1.678995e+07\n",
      "2018  171.472948  173.613347  169.303148  171.510956  2.765860e+07\n",
      "2019  181.566547  183.482539  179.648889  181.637500  1.620627e+07\n",
      "2020  234.348696  237.939922  230.790040  234.550870  2.244630e+07\n",
      "2021  317.405238  321.153492  313.943755  317.614762  1.746952e+07\n"
     ]
    }
   ],
   "source": [
    "fb1ym = fb1.groupby('Year').mean()\n",
    "print(fb1ym)"
   ]
  },
  {
   "cell_type": "code",
   "execution_count": 170,
   "id": "8d283d92",
   "metadata": {},
   "outputs": [],
   "source": [
    "fb1['Volume m'] = fb1['Volume'].div(1000000).round()"
   ]
  },
  {
   "cell_type": "code",
   "execution_count": 171,
   "id": "0224db80",
   "metadata": {},
   "outputs": [
    {
     "name": "stdout",
     "output_type": "stream",
     "text": [
      "           Date        Open        High         Low       Close     Volume  \\\n",
      "0    2012-05-18   42.049999   45.000000   38.000000   38.230000  573576400   \n",
      "1    2012-05-21   36.529999   36.660000   33.000000   34.029999  168192700   \n",
      "2    2012-05-22   32.610001   33.590000   30.940001   31.000000  101786600   \n",
      "3    2012-05-23   31.370001   32.500000   31.360001   32.000000   73600000   \n",
      "4    2012-05-24   32.950001   33.209999   31.770000   33.029999   50237200   \n",
      "...         ...         ...         ...         ...         ...        ...   \n",
      "2354 2021-09-27  349.809998  355.149994  347.079987  353.579987   15205800   \n",
      "2355 2021-09-28  347.970001  349.600006  338.920013  340.649994   21710300   \n",
      "2356 2021-09-29  343.149994  345.230011  338.880005  339.609985   14452200   \n",
      "2357 2021-09-30  340.450012  342.799988  338.149994  339.390015   16547100   \n",
      "2358 2021-10-01  341.609985  345.010010  338.640015  343.010010   14789507   \n",
      "\n",
      "      Year  Volume m  \n",
      "0     2012     574.0  \n",
      "1     2012     168.0  \n",
      "2     2012     102.0  \n",
      "3     2012      74.0  \n",
      "4     2012      50.0  \n",
      "...    ...       ...  \n",
      "2354  2021      15.0  \n",
      "2355  2021      22.0  \n",
      "2356  2021      14.0  \n",
      "2357  2021      17.0  \n",
      "2358  2021      15.0  \n",
      "\n",
      "[2359 rows x 8 columns]\n"
     ]
    }
   ],
   "source": [
    "print(fb1)"
   ]
  },
  {
   "cell_type": "code",
   "execution_count": 172,
   "id": "84b941d4",
   "metadata": {},
   "outputs": [
    {
     "data": {
      "image/png": "[encoded data removed]",
      "text/plain": [
       "<Figure size 432x288 with 1 Axes>"
      ]
     },
     "metadata": {},
     "output_type": "display_data"
    }
   ],
   "source": [
    "sns.set_style(\"whitegrid\")\n",
    "sns.set_context(\"notebook\")\n",
    "sns.lineplot(x = \"Year\", y = \"Close\", data = fb1ym).set_title('Average Closing Price')\n",
    "plt.ylabel('$ Closing Price')\n",
    "plt.show()"
   ]
  },
  {
   "cell_type": "code",
   "execution_count": 173,
   "id": "1489167d",
   "metadata": {},
   "outputs": [
    {
     "name": "stdout",
     "output_type": "stream",
     "text": [
      "<class 'pandas.core.frame.DataFrame'>\n",
      "Int64Index: 10 entries, 2012 to 2021\n",
      "Data columns (total 5 columns):\n",
      " #   Column  Non-Null Count  Dtype  \n",
      "---  ------  --------------  -----  \n",
      " 0   Open    10 non-null     float64\n",
      " 1   High    10 non-null     float64\n",
      " 2   Low     10 non-null     float64\n",
      " 3   Close   10 non-null     float64\n",
      " 4   Volume  10 non-null     float64\n",
      "dtypes: float64(5)\n",
      "memory usage: 780.0 bytes\n",
      "None\n"
     ]
    }
   ],
   "source": [
    "print (fb1ym.info())"
   ]
  },
  {
   "cell_type": "code",
   "execution_count": 174,
   "id": "0cfcf610",
   "metadata": {},
   "outputs": [],
   "source": [
    "fb1ym['Volume m'] = fb1ym['Volume'].div(1000000).round()"
   ]
  },
  {
   "cell_type": "code",
   "execution_count": 175,
   "id": "7cb8ba97",
   "metadata": {},
   "outputs": [],
   "source": [
    "fb1ym.reset_index(level=None, inplace=True)"
   ]
  },
  {
   "cell_type": "code",
   "execution_count": 176,
   "id": "591ac045",
   "metadata": {},
   "outputs": [
    {
     "name": "stdout",
     "output_type": "stream",
     "text": [
      "<class 'pandas.core.frame.DataFrame'>\n",
      "RangeIndex: 10 entries, 0 to 9\n",
      "Data columns (total 7 columns):\n",
      " #   Column    Non-Null Count  Dtype  \n",
      "---  ------    --------------  -----  \n",
      " 0   Year      10 non-null     int64  \n",
      " 1   Open      10 non-null     float64\n",
      " 2   High      10 non-null     float64\n",
      " 3   Low       10 non-null     float64\n",
      " 4   Close     10 non-null     float64\n",
      " 5   Volume    10 non-null     float64\n",
      " 6   Volume m  10 non-null     float64\n",
      "dtypes: float64(6), int64(1)\n",
      "memory usage: 688.0 bytes\n",
      "None\n"
     ]
    }
   ],
   "source": [
    "print (fb1ym.info())"
   ]
  },
  {
   "cell_type": "code",
   "execution_count": 177,
   "id": "c3f2c1dc",
   "metadata": {},
   "outputs": [
    {
     "data": {
      "text/plain": [
       "Year\n",
       "2012     8470462700\n",
       "2013    15143182600\n",
       "2014    11977699100\n",
       "2015     6793637600\n",
       "2016     6419717900\n",
       "2017     4214278100\n",
       "2018     6942307800\n",
       "2019     4083979700\n",
       "2020     5678912800\n",
       "2021     3301740007\n",
       "Name: Volume, dtype: int64"
      ]
     },
     "execution_count": 177,
     "metadata": {},
     "output_type": "execute_result"
    }
   ],
   "source": [
    "fb1.groupby(\"Year\")[\"Volume\"].sum()"
   ]
  },
  {
   "cell_type": "code",
   "execution_count": 178,
   "id": "02bb0584",
   "metadata": {},
   "outputs": [
    {
     "data": {
      "image/png": "[encoded data removed]",
      "text/plain": [
       "<Figure size 432x288 with 1 Axes>"
      ]
     },
     "metadata": {},
     "output_type": "display_data"
    }
   ],
   "source": [
    "sns.set_style(\"whitegrid\")\n",
    "sns.set_context(\"notebook\")\n",
    "sns.barplot(x = \"Year\", y = \"Volume m\", data = fb1ym).set_title('Yearly Avg Stock Traded')\n",
    "plt.ylabel('Vol Stock')\n",
    "plt.show()"
   ]
  },
  {
   "cell_type": "code",
   "execution_count": 179,
   "id": "3f17fb91",
   "metadata": {},
   "outputs": [],
   "source": [
    "fb1ym['% Yearly Avg Change'] = (fb1ym['High'] - fb1ym['Low'])/(fb1ym['Low']) * 100"
   ]
  },
  {
   "cell_type": "code",
   "execution_count": 180,
   "id": "e11cc189",
   "metadata": {},
   "outputs": [
    {
     "name": "stdout",
     "output_type": "stream",
     "text": [
      "   Year        Open        High         Low       Close        Volume  \\\n",
      "0  2012   24.799613   25.300903   24.195871   24.673097  5.464815e+07   \n",
      "1  2013   35.476429   36.045040   34.930159   35.481151  6.009199e+07   \n",
      "2  2014   68.763968   69.639524   67.830199   68.762341  4.753055e+07   \n",
      "3  2015   88.749405   89.683373   87.762778   88.772857  2.695888e+07   \n",
      "4  2016  117.081071  118.091706  115.865873  117.035873  2.547507e+07   \n",
      "5  2017  156.481076  157.557530  155.347012  156.576175  1.678995e+07   \n",
      "6  2018  171.472948  173.613347  169.303148  171.510956  2.765860e+07   \n",
      "7  2019  181.566547  183.482539  179.648889  181.637500  1.620627e+07   \n",
      "8  2020  234.348696  237.939922  230.790040  234.550870  2.244630e+07   \n",
      "9  2021  317.405238  321.153492  313.943755  317.614762  1.746952e+07   \n",
      "\n",
      "   Volume m  % Yearly Avg Change  \n",
      "0      55.0             4.567028  \n",
      "1      60.0             3.191743  \n",
      "2      48.0             2.667433  \n",
      "3      27.0             2.188394  \n",
      "4      25.0             1.921043  \n",
      "5      17.0             1.422955  \n",
      "6      28.0             2.545847  \n",
      "7      16.0             2.133968  \n",
      "8      22.0             3.098003  \n",
      "9      17.0             2.296506  \n"
     ]
    }
   ],
   "source": [
    "print(fb1ym)"
   ]
  },
  {
   "cell_type": "code",
   "execution_count": 181,
   "id": "a2509a3a",
   "metadata": {},
   "outputs": [
    {
     "data": {
      "text/html": [
       "<div>\n",
       "<style scoped>\n",
       "    .dataframe tbody tr th:only-of-type {\n",
       "        vertical-align: middle;\n",
       "    }\n",
       "\n",
       "    .dataframe tbody tr th {\n",
       "        vertical-align: top;\n",
       "    }\n",
       "\n",
       "    .dataframe thead th {\n",
       "        text-align: right;\n",
       "    }\n",
       "</style>\n",
       "<table border=\"1\" class=\"dataframe\">\n",
       "  <thead>\n",
       "    <tr style=\"text-align: right;\">\n",
       "      <th></th>\n",
       "      <th>Date</th>\n",
       "      <th>Open</th>\n",
       "      <th>High</th>\n",
       "      <th>Low</th>\n",
       "      <th>Close</th>\n",
       "      <th>Volume</th>\n",
       "      <th>Year</th>\n",
       "      <th>Volume m</th>\n",
       "    </tr>\n",
       "  </thead>\n",
       "  <tbody>\n",
       "    <tr>\n",
       "      <th>1243</th>\n",
       "      <td>2017-04-28</td>\n",
       "      <td>149.500000</td>\n",
       "      <td>151.529999</td>\n",
       "      <td>149.070007</td>\n",
       "      <td>150.250000</td>\n",
       "      <td>30652200</td>\n",
       "      <td>2017</td>\n",
       "      <td>31.0</td>\n",
       "    </tr>\n",
       "    <tr>\n",
       "      <th>1247</th>\n",
       "      <td>2017-05-04</td>\n",
       "      <td>150.169998</td>\n",
       "      <td>151.520004</td>\n",
       "      <td>148.720001</td>\n",
       "      <td>150.850006</td>\n",
       "      <td>36225500</td>\n",
       "      <td>2017</td>\n",
       "      <td>36.0</td>\n",
       "    </tr>\n",
       "    <tr>\n",
       "      <th>1272</th>\n",
       "      <td>2017-06-09</td>\n",
       "      <td>154.770004</td>\n",
       "      <td>155.589996</td>\n",
       "      <td>146.610001</td>\n",
       "      <td>149.600006</td>\n",
       "      <td>35577700</td>\n",
       "      <td>2017</td>\n",
       "      <td>36.0</td>\n",
       "    </tr>\n",
       "    <tr>\n",
       "      <th>1273</th>\n",
       "      <td>2017-06-12</td>\n",
       "      <td>148.169998</td>\n",
       "      <td>149.199997</td>\n",
       "      <td>144.559998</td>\n",
       "      <td>148.440002</td>\n",
       "      <td>33170200</td>\n",
       "      <td>2017</td>\n",
       "      <td>33.0</td>\n",
       "    </tr>\n",
       "    <tr>\n",
       "      <th>1304</th>\n",
       "      <td>2017-07-26</td>\n",
       "      <td>166.009995</td>\n",
       "      <td>166.009995</td>\n",
       "      <td>164.100006</td>\n",
       "      <td>165.610001</td>\n",
       "      <td>35236900</td>\n",
       "      <td>2017</td>\n",
       "      <td>35.0</td>\n",
       "    </tr>\n",
       "    <tr>\n",
       "      <th>...</th>\n",
       "      <td>...</td>\n",
       "      <td>...</td>\n",
       "      <td>...</td>\n",
       "      <td>...</td>\n",
       "      <td>...</td>\n",
       "      <td>...</td>\n",
       "      <td>...</td>\n",
       "      <td>...</td>\n",
       "    </tr>\n",
       "    <tr>\n",
       "      <th>2249</th>\n",
       "      <td>2021-04-28</td>\n",
       "      <td>307.359985</td>\n",
       "      <td>310.920013</td>\n",
       "      <td>305.369995</td>\n",
       "      <td>307.100006</td>\n",
       "      <td>33907200</td>\n",
       "      <td>2021</td>\n",
       "      <td>34.0</td>\n",
       "    </tr>\n",
       "    <tr>\n",
       "      <th>2250</th>\n",
       "      <td>2021-04-29</td>\n",
       "      <td>330.119995</td>\n",
       "      <td>331.809998</td>\n",
       "      <td>321.609985</td>\n",
       "      <td>329.510010</td>\n",
       "      <td>56526800</td>\n",
       "      <td>2021</td>\n",
       "      <td>57.0</td>\n",
       "    </tr>\n",
       "    <tr>\n",
       "      <th>2309</th>\n",
       "      <td>2021-07-23</td>\n",
       "      <td>360.910004</td>\n",
       "      <td>375.329987</td>\n",
       "      <td>357.190002</td>\n",
       "      <td>369.790009</td>\n",
       "      <td>33694300</td>\n",
       "      <td>2021</td>\n",
       "      <td>34.0</td>\n",
       "    </tr>\n",
       "    <tr>\n",
       "      <th>2313</th>\n",
       "      <td>2021-07-29</td>\n",
       "      <td>361.000000</td>\n",
       "      <td>365.519989</td>\n",
       "      <td>356.739990</td>\n",
       "      <td>358.320007</td>\n",
       "      <td>33413200</td>\n",
       "      <td>2021</td>\n",
       "      <td>33.0</td>\n",
       "    </tr>\n",
       "    <tr>\n",
       "      <th>2351</th>\n",
       "      <td>2021-09-22</td>\n",
       "      <td>347.230011</td>\n",
       "      <td>349.839996</td>\n",
       "      <td>340.690002</td>\n",
       "      <td>343.209991</td>\n",
       "      <td>43692900</td>\n",
       "      <td>2021</td>\n",
       "      <td>44.0</td>\n",
       "    </tr>\n",
       "  </tbody>\n",
       "</table>\n",
       "<p>124 rows × 8 columns</p>\n",
       "</div>"
      ],
      "text/plain": [
       "           Date        Open        High         Low       Close    Volume  \\\n",
       "1243 2017-04-28  149.500000  151.529999  149.070007  150.250000  30652200   \n",
       "1247 2017-05-04  150.169998  151.520004  148.720001  150.850006  36225500   \n",
       "1272 2017-06-09  154.770004  155.589996  146.610001  149.600006  35577700   \n",
       "1273 2017-06-12  148.169998  149.199997  144.559998  148.440002  33170200   \n",
       "1304 2017-07-26  166.009995  166.009995  164.100006  165.610001  35236900   \n",
       "...         ...         ...         ...         ...         ...       ...   \n",
       "2249 2021-04-28  307.359985  310.920013  305.369995  307.100006  33907200   \n",
       "2250 2021-04-29  330.119995  331.809998  321.609985  329.510010  56526800   \n",
       "2309 2021-07-23  360.910004  375.329987  357.190002  369.790009  33694300   \n",
       "2313 2021-07-29  361.000000  365.519989  356.739990  358.320007  33413200   \n",
       "2351 2021-09-22  347.230011  349.839996  340.690002  343.209991  43692900   \n",
       "\n",
       "      Year  Volume m  \n",
       "1243  2017      31.0  \n",
       "1247  2017      36.0  \n",
       "1272  2017      36.0  \n",
       "1273  2017      33.0  \n",
       "1304  2017      35.0  \n",
       "...    ...       ...  \n",
       "2249  2021      34.0  \n",
       "2250  2021      57.0  \n",
       "2309  2021      34.0  \n",
       "2313  2021      33.0  \n",
       "2351  2021      44.0  \n",
       "\n",
       "[124 rows x 8 columns]"
      ]
     },
     "execution_count": 181,
     "metadata": {},
     "output_type": "execute_result"
    }
   ],
   "source": [
    "Close_AbvAvg = fb1[\"Close\"] > 139.656876\n",
    "VolumeM_AbvAvg = fb1[\"Volume m\"] > 30.955066\n",
    "fb1[Close_AbvAvg & VolumeM_AbvAvg]"
   ]
  },
  {
   "cell_type": "code",
   "execution_count": 182,
   "id": "53383877",
   "metadata": {},
   "outputs": [
    {
     "data": {
      "image/png": "[encoded data removed]",
      "text/plain": [
       "<Figure size 432x288 with 1 Axes>"
      ]
     },
     "metadata": {},
     "output_type": "display_data"
    }
   ],
   "source": [
    "fb1[\"High\"].hist(bins=100)\n",
    "plt.show()"
   ]
  },
  {
   "cell_type": "code",
   "execution_count": 183,
   "id": "37348cdd",
   "metadata": {},
   "outputs": [],
   "source": [
    "fb1ym['diff'] = fb1ym.Close.diff()"
   ]
  },
  {
   "cell_type": "code",
   "execution_count": 184,
   "id": "1df23f40",
   "metadata": {},
   "outputs": [
    {
     "data": {
      "text/html": [
       "<div>\n",
       "<style scoped>\n",
       "    .dataframe tbody tr th:only-of-type {\n",
       "        vertical-align: middle;\n",
       "    }\n",
       "\n",
       "    .dataframe tbody tr th {\n",
       "        vertical-align: top;\n",
       "    }\n",
       "\n",
       "    .dataframe thead th {\n",
       "        text-align: right;\n",
       "    }\n",
       "</style>\n",
       "<table border=\"1\" class=\"dataframe\">\n",
       "  <thead>\n",
       "    <tr style=\"text-align: right;\">\n",
       "      <th></th>\n",
       "      <th>Year</th>\n",
       "      <th>Close</th>\n",
       "      <th>diff</th>\n",
       "    </tr>\n",
       "  </thead>\n",
       "  <tbody>\n",
       "    <tr>\n",
       "      <th>0</th>\n",
       "      <td>2012</td>\n",
       "      <td>24.673097</td>\n",
       "      <td>NaN</td>\n",
       "    </tr>\n",
       "    <tr>\n",
       "      <th>1</th>\n",
       "      <td>2013</td>\n",
       "      <td>35.481151</td>\n",
       "      <td>10.808054</td>\n",
       "    </tr>\n",
       "    <tr>\n",
       "      <th>2</th>\n",
       "      <td>2014</td>\n",
       "      <td>68.762341</td>\n",
       "      <td>33.281190</td>\n",
       "    </tr>\n",
       "    <tr>\n",
       "      <th>3</th>\n",
       "      <td>2015</td>\n",
       "      <td>88.772857</td>\n",
       "      <td>20.010516</td>\n",
       "    </tr>\n",
       "    <tr>\n",
       "      <th>4</th>\n",
       "      <td>2016</td>\n",
       "      <td>117.035873</td>\n",
       "      <td>28.263016</td>\n",
       "    </tr>\n",
       "    <tr>\n",
       "      <th>5</th>\n",
       "      <td>2017</td>\n",
       "      <td>156.576175</td>\n",
       "      <td>39.540302</td>\n",
       "    </tr>\n",
       "    <tr>\n",
       "      <th>6</th>\n",
       "      <td>2018</td>\n",
       "      <td>171.510956</td>\n",
       "      <td>14.934780</td>\n",
       "    </tr>\n",
       "    <tr>\n",
       "      <th>7</th>\n",
       "      <td>2019</td>\n",
       "      <td>181.637500</td>\n",
       "      <td>10.126544</td>\n",
       "    </tr>\n",
       "    <tr>\n",
       "      <th>8</th>\n",
       "      <td>2020</td>\n",
       "      <td>234.550870</td>\n",
       "      <td>52.913370</td>\n",
       "    </tr>\n",
       "    <tr>\n",
       "      <th>9</th>\n",
       "      <td>2021</td>\n",
       "      <td>317.614762</td>\n",
       "      <td>83.063892</td>\n",
       "    </tr>\n",
       "  </tbody>\n",
       "</table>\n",
       "</div>"
      ],
      "text/plain": [
       "   Year       Close       diff\n",
       "0  2012   24.673097        NaN\n",
       "1  2013   35.481151  10.808054\n",
       "2  2014   68.762341  33.281190\n",
       "3  2015   88.772857  20.010516\n",
       "4  2016  117.035873  28.263016\n",
       "5  2017  156.576175  39.540302\n",
       "6  2018  171.510956  14.934780\n",
       "7  2019  181.637500  10.126544\n",
       "8  2020  234.550870  52.913370\n",
       "9  2021  317.614762  83.063892"
      ]
     },
     "execution_count": 184,
     "metadata": {},
     "output_type": "execute_result"
    }
   ],
   "source": [
    "fb1ym[['Year','Close', 'diff']].head(10)"
   ]
  },
  {
   "cell_type": "code",
   "execution_count": 185,
   "id": "f09f6be2",
   "metadata": {},
   "outputs": [
    {
     "data": {
      "text/html": [
       "<div>\n",
       "<style scoped>\n",
       "    .dataframe tbody tr th:only-of-type {\n",
       "        vertical-align: middle;\n",
       "    }\n",
       "\n",
       "    .dataframe tbody tr th {\n",
       "        vertical-align: top;\n",
       "    }\n",
       "\n",
       "    .dataframe thead th {\n",
       "        text-align: right;\n",
       "    }\n",
       "</style>\n",
       "<table border=\"1\" class=\"dataframe\">\n",
       "  <thead>\n",
       "    <tr style=\"text-align: right;\">\n",
       "      <th></th>\n",
       "      <th>Date</th>\n",
       "      <th>Close</th>\n",
       "      <th>pct_change</th>\n",
       "    </tr>\n",
       "  </thead>\n",
       "  <tbody>\n",
       "    <tr>\n",
       "      <th>0</th>\n",
       "      <td>2012-05-18</td>\n",
       "      <td>38.230000</td>\n",
       "      <td>NaN</td>\n",
       "    </tr>\n",
       "    <tr>\n",
       "      <th>1</th>\n",
       "      <td>2012-05-21</td>\n",
       "      <td>34.029999</td>\n",
       "      <td>-10.986139</td>\n",
       "    </tr>\n",
       "    <tr>\n",
       "      <th>2</th>\n",
       "      <td>2012-05-22</td>\n",
       "      <td>31.000000</td>\n",
       "      <td>-8.903905</td>\n",
       "    </tr>\n",
       "    <tr>\n",
       "      <th>3</th>\n",
       "      <td>2012-05-23</td>\n",
       "      <td>32.000000</td>\n",
       "      <td>3.225806</td>\n",
       "    </tr>\n",
       "    <tr>\n",
       "      <th>4</th>\n",
       "      <td>2012-05-24</td>\n",
       "      <td>33.029999</td>\n",
       "      <td>3.218746</td>\n",
       "    </tr>\n",
       "  </tbody>\n",
       "</table>\n",
       "</div>"
      ],
      "text/plain": [
       "        Date      Close  pct_change\n",
       "0 2012-05-18  38.230000         NaN\n",
       "1 2012-05-21  34.029999  -10.986139\n",
       "2 2012-05-22  31.000000   -8.903905\n",
       "3 2012-05-23  32.000000    3.225806\n",
       "4 2012-05-24  33.029999    3.218746"
      ]
     },
     "execution_count": 185,
     "metadata": {},
     "output_type": "execute_result"
    }
   ],
   "source": [
    "fb1['pct_change'] = fb1.Close.pct_change().mul(100)\n",
    "fb1[['Date', 'Close', 'pct_change']].head(5)"
   ]
  },
  {
   "cell_type": "code",
   "execution_count": 186,
   "id": "21d36e61",
   "metadata": {},
   "outputs": [
    {
     "data": {
      "text/html": [
       "<div>\n",
       "<style scoped>\n",
       "    .dataframe tbody tr th:only-of-type {\n",
       "        vertical-align: middle;\n",
       "    }\n",
       "\n",
       "    .dataframe tbody tr th {\n",
       "        vertical-align: top;\n",
       "    }\n",
       "\n",
       "    .dataframe thead th {\n",
       "        text-align: right;\n",
       "    }\n",
       "</style>\n",
       "<table border=\"1\" class=\"dataframe\">\n",
       "  <thead>\n",
       "    <tr style=\"text-align: right;\">\n",
       "      <th></th>\n",
       "      <th>Date</th>\n",
       "      <th>Open</th>\n",
       "      <th>High</th>\n",
       "      <th>Low</th>\n",
       "      <th>Close</th>\n",
       "      <th>Volume</th>\n",
       "      <th>Year</th>\n",
       "      <th>Volume m</th>\n",
       "      <th>pct_change</th>\n",
       "    </tr>\n",
       "  </thead>\n",
       "  <tbody>\n",
       "    <tr>\n",
       "      <th>1</th>\n",
       "      <td>2012-05-21</td>\n",
       "      <td>36.529999</td>\n",
       "      <td>36.660000</td>\n",
       "      <td>33.000000</td>\n",
       "      <td>34.029999</td>\n",
       "      <td>168192700</td>\n",
       "      <td>2012</td>\n",
       "      <td>168.0</td>\n",
       "      <td>-10.986139</td>\n",
       "    </tr>\n",
       "    <tr>\n",
       "      <th>2</th>\n",
       "      <td>2012-05-22</td>\n",
       "      <td>32.610001</td>\n",
       "      <td>33.590000</td>\n",
       "      <td>30.940001</td>\n",
       "      <td>31.000000</td>\n",
       "      <td>101786600</td>\n",
       "      <td>2012</td>\n",
       "      <td>102.0</td>\n",
       "      <td>-8.903905</td>\n",
       "    </tr>\n",
       "    <tr>\n",
       "      <th>5</th>\n",
       "      <td>2012-05-25</td>\n",
       "      <td>32.900002</td>\n",
       "      <td>32.950001</td>\n",
       "      <td>31.110001</td>\n",
       "      <td>31.910000</td>\n",
       "      <td>37149800</td>\n",
       "      <td>2012</td>\n",
       "      <td>37.0</td>\n",
       "      <td>-3.390854</td>\n",
       "    </tr>\n",
       "    <tr>\n",
       "      <th>6</th>\n",
       "      <td>2012-05-29</td>\n",
       "      <td>31.480000</td>\n",
       "      <td>31.690001</td>\n",
       "      <td>28.650000</td>\n",
       "      <td>28.840000</td>\n",
       "      <td>78063400</td>\n",
       "      <td>2012</td>\n",
       "      <td>78.0</td>\n",
       "      <td>-9.620808</td>\n",
       "    </tr>\n",
       "    <tr>\n",
       "      <th>7</th>\n",
       "      <td>2012-05-30</td>\n",
       "      <td>28.700001</td>\n",
       "      <td>29.549999</td>\n",
       "      <td>27.860001</td>\n",
       "      <td>28.190001</td>\n",
       "      <td>57267900</td>\n",
       "      <td>2012</td>\n",
       "      <td>57.0</td>\n",
       "      <td>-2.253813</td>\n",
       "    </tr>\n",
       "    <tr>\n",
       "      <th>...</th>\n",
       "      <td>...</td>\n",
       "      <td>...</td>\n",
       "      <td>...</td>\n",
       "      <td>...</td>\n",
       "      <td>...</td>\n",
       "      <td>...</td>\n",
       "      <td>...</td>\n",
       "      <td>...</td>\n",
       "      <td>...</td>\n",
       "    </tr>\n",
       "    <tr>\n",
       "      <th>2349</th>\n",
       "      <td>2021-09-20</td>\n",
       "      <td>359.299988</td>\n",
       "      <td>361.029999</td>\n",
       "      <td>349.799988</td>\n",
       "      <td>355.700012</td>\n",
       "      <td>19822800</td>\n",
       "      <td>2021</td>\n",
       "      <td>20.0</td>\n",
       "      <td>-2.473127</td>\n",
       "    </tr>\n",
       "    <tr>\n",
       "      <th>2351</th>\n",
       "      <td>2021-09-22</td>\n",
       "      <td>347.230011</td>\n",
       "      <td>349.839996</td>\n",
       "      <td>340.690002</td>\n",
       "      <td>343.209991</td>\n",
       "      <td>43692900</td>\n",
       "      <td>2021</td>\n",
       "      <td>44.0</td>\n",
       "      <td>-3.991837</td>\n",
       "    </tr>\n",
       "    <tr>\n",
       "      <th>2355</th>\n",
       "      <td>2021-09-28</td>\n",
       "      <td>347.970001</td>\n",
       "      <td>349.600006</td>\n",
       "      <td>338.920013</td>\n",
       "      <td>340.649994</td>\n",
       "      <td>21710300</td>\n",
       "      <td>2021</td>\n",
       "      <td>22.0</td>\n",
       "      <td>-3.656879</td>\n",
       "    </tr>\n",
       "    <tr>\n",
       "      <th>2356</th>\n",
       "      <td>2021-09-29</td>\n",
       "      <td>343.149994</td>\n",
       "      <td>345.230011</td>\n",
       "      <td>338.880005</td>\n",
       "      <td>339.609985</td>\n",
       "      <td>14452200</td>\n",
       "      <td>2021</td>\n",
       "      <td>14.0</td>\n",
       "      <td>-0.305301</td>\n",
       "    </tr>\n",
       "    <tr>\n",
       "      <th>2357</th>\n",
       "      <td>2021-09-30</td>\n",
       "      <td>340.450012</td>\n",
       "      <td>342.799988</td>\n",
       "      <td>338.149994</td>\n",
       "      <td>339.390015</td>\n",
       "      <td>16547100</td>\n",
       "      <td>2021</td>\n",
       "      <td>17.0</td>\n",
       "      <td>-0.064772</td>\n",
       "    </tr>\n",
       "  </tbody>\n",
       "</table>\n",
       "<p>1109 rows × 9 columns</p>\n",
       "</div>"
      ],
      "text/plain": [
       "           Date        Open        High         Low       Close     Volume  \\\n",
       "1    2012-05-21   36.529999   36.660000   33.000000   34.029999  168192700   \n",
       "2    2012-05-22   32.610001   33.590000   30.940001   31.000000  101786600   \n",
       "5    2012-05-25   32.900002   32.950001   31.110001   31.910000   37149800   \n",
       "6    2012-05-29   31.480000   31.690001   28.650000   28.840000   78063400   \n",
       "7    2012-05-30   28.700001   29.549999   27.860001   28.190001   57267900   \n",
       "...         ...         ...         ...         ...         ...        ...   \n",
       "2349 2021-09-20  359.299988  361.029999  349.799988  355.700012   19822800   \n",
       "2351 2021-09-22  347.230011  349.839996  340.690002  343.209991   43692900   \n",
       "2355 2021-09-28  347.970001  349.600006  338.920013  340.649994   21710300   \n",
       "2356 2021-09-29  343.149994  345.230011  338.880005  339.609985   14452200   \n",
       "2357 2021-09-30  340.450012  342.799988  338.149994  339.390015   16547100   \n",
       "\n",
       "      Year  Volume m  pct_change  \n",
       "1     2012     168.0  -10.986139  \n",
       "2     2012     102.0   -8.903905  \n",
       "5     2012      37.0   -3.390854  \n",
       "6     2012      78.0   -9.620808  \n",
       "7     2012      57.0   -2.253813  \n",
       "...    ...       ...         ...  \n",
       "2349  2021      20.0   -2.473127  \n",
       "2351  2021      44.0   -3.991837  \n",
       "2355  2021      22.0   -3.656879  \n",
       "2356  2021      14.0   -0.305301  \n",
       "2357  2021      17.0   -0.064772  \n",
       "\n",
       "[1109 rows x 9 columns]"
      ]
     },
     "execution_count": 186,
     "metadata": {},
     "output_type": "execute_result"
    }
   ],
   "source": [
    "fb1[fb1[\"pct_change\"] < 0]"
   ]
  },
  {
   "cell_type": "code",
   "execution_count": 187,
   "id": "4ff1a1c1",
   "metadata": {},
   "outputs": [],
   "source": [
    "fb1['Movement'] = np.where(fb1['Close']-fb1['Open']>0, 'Price Inc',\n",
    "np.where(fb1['Close']-fb1['Open']<0, 'Price Dec', 'No Mvmt'))"
   ]
  },
  {
   "cell_type": "code",
   "execution_count": 188,
   "id": "53e6774f",
   "metadata": {},
   "outputs": [
    {
     "data": {
      "text/plain": [
       "Price Inc    1194\n",
       "Price Dec    1159\n",
       "No Mvmt         6\n",
       "Name: Movement, dtype: int64"
      ]
     },
     "execution_count": 188,
     "metadata": {},
     "output_type": "execute_result"
    }
   ],
   "source": [
    "fb1['Movement'].value_counts()"
   ]
  },
  {
   "cell_type": "code",
   "execution_count": 189,
   "id": "4fea6a75",
   "metadata": {},
   "outputs": [
    {
     "data": {
      "text/plain": [
       "<function matplotlib.pyplot.show(close=None, block=None)>"
      ]
     },
     "execution_count": 189,
     "metadata": {},
     "output_type": "execute_result"
    },
    {
     "data": {
      "image/png": "[encoded data removed]",
      "text/plain": [
       "<Figure size 432x288 with 1 Axes>"
      ]
     },
     "metadata": {},
     "output_type": "display_data"
    }
   ],
   "source": [
    "sns.countplot(y='Movement', data=fb1)\n",
    "plt.show"
   ]
  },
  {
   "cell_type": "code",
   "execution_count": 190,
   "id": "2b70e015",
   "metadata": {},
   "outputs": [
    {
     "name": "stdout",
     "output_type": "stream",
     "text": [
      "           Date        Open        High         Low       Close     Volume  \\\n",
      "0    2012-05-18   42.049999   45.000000   38.000000   38.230000  573576400   \n",
      "1    2012-05-21   36.529999   36.660000   33.000000   34.029999  168192700   \n",
      "2    2012-05-22   32.610001   33.590000   30.940001   31.000000  101786600   \n",
      "3    2012-05-23   31.370001   32.500000   31.360001   32.000000   73600000   \n",
      "4    2012-05-24   32.950001   33.209999   31.770000   33.029999   50237200   \n",
      "...         ...         ...         ...         ...         ...        ...   \n",
      "2354 2021-09-27  349.809998  355.149994  347.079987  353.579987   15205800   \n",
      "2355 2021-09-28  347.970001  349.600006  338.920013  340.649994   21710300   \n",
      "2356 2021-09-29  343.149994  345.230011  338.880005  339.609985   14452200   \n",
      "2357 2021-09-30  340.450012  342.799988  338.149994  339.390015   16547100   \n",
      "2358 2021-10-01  341.609985  345.010010  338.640015  343.010010   14789507   \n",
      "\n",
      "      Year  Volume m  pct_change   Movement  \n",
      "0     2012     574.0         NaN  Price Dec  \n",
      "1     2012     168.0  -10.986139  Price Dec  \n",
      "2     2012     102.0   -8.903905  Price Dec  \n",
      "3     2012      74.0    3.225806  Price Inc  \n",
      "4     2012      50.0    3.218746  Price Inc  \n",
      "...    ...       ...         ...        ...  \n",
      "2354  2021      15.0    0.175656  Price Inc  \n",
      "2355  2021      22.0   -3.656879  Price Dec  \n",
      "2356  2021      14.0   -0.305301  Price Dec  \n",
      "2357  2021      17.0   -0.064772  Price Dec  \n",
      "2358  2021      15.0    1.066618  Price Inc  \n",
      "\n",
      "[2359 rows x 10 columns]\n"
     ]
    }
   ],
   "source": [
    "print(fb1)"
   ]
  },
  {
   "cell_type": "code",
   "execution_count": 191,
   "id": "28189fa5",
   "metadata": {},
   "outputs": [
    {
     "data": {
      "text/plain": [
       "<matplotlib.legend.Legend at 0x7f99711d6a30>"
      ]
     },
     "execution_count": 191,
     "metadata": {},
     "output_type": "execute_result"
    },
    {
     "data": {
      "image/png": "[encoded data removed]",
      "text/plain": [
       "<Figure size 720x360 with 1 Axes>"
      ]
     },
     "metadata": {},
     "output_type": "display_data"
    }
   ],
   "source": [
    "fig = plt.figure()\n",
    "fig.set_size_inches(10, 5)\n",
    "sns.set_style(\"ticks\")\n",
    "plt.title(\"FB Stock\")\n",
    "plt.ylabel(\"Stock Price\")\n",
    "sns.lineplot(x='Year', y='Low', ci=None, marker='o', data=fb1)\n",
    "sns.lineplot(x='Year', y='High', ci=None, marker='+', data=fb1)\n",
    "plt.legend(labels=[\"Low\", \"High\"])"
   ]
  }
 ],
 "metadata": {
  "kernelspec": {
   "display_name": "Python 3 (ipykernel)",
   "language": "python",
   "name": "python3"
  },
  "language_info": {
   "codemirror_mode": {
    "name": "ipython",
    "version": 3
   },
   "file_extension": ".py",
   "mimetype": "text/x-python",
   "name": "python",
   "nbconvert_exporter": "python",
   "pygments_lexer": "ipython3",
   "version": "3.9.7"
  }
 },
 "nbformat": 4,
 "nbformat_minor": 5
}
